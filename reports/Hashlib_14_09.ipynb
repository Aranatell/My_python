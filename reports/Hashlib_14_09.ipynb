{
 "cells": [
  {
   "cell_type": "markdown",
   "metadata": {},
   "source": [
    "<H1>Hashlib library\n",
    "    <H2>Крайковский, Бурзунов, ИБ-1801\n"
   ]
  },
  {
   "cell_type": "markdown",
   "metadata": {},
   "source": [
    "Как уже ясно из названия, инстрменты библиотеки позволяют работать с хеш-функциями. \n",
    "\n",
    "Чтобы быстро ухватить сущность хеш-функции, достаточно представить себе функцию **'f(x)'**, особенностью которой является (практически) полная невозможность получить прообраз **x** по \n",
    "результату функции **y=f(x)**\n",
    "\n",
    "---\n",
    "Значение, что возвращается хеш-функцией, обычно называют **хешем, дайджестом сообщения, значением хеша или контрольной суммой.**\n",
    "___"
   ]
  },
  {
   "cell_type": "markdown",
   "metadata": {},
   "source": [
    "Сейчас существуюет два основных семейства алгоритмов, реализующих хеш-функции - MD и SHA. Некоторые из представителей второй группы в настоящий момент являются стандартами безопасности США."
   ]
  },
  {
   "cell_type": "markdown",
   "metadata": {},
   "source": [
    "**Важно отметить:**\n",
    "В настоящий момент не все предлагаемые в модуле алгоритмы являются в достаточной степени безопасными. В качестве нагляднейшего примера достаточно взять алгоритм MD5, безопасность которого впервые была подвергнута сомнению где-то в 93 году, посде чего доказуемость важного свойства алгоритма - наличие **псевдоколлизий**, подтвердило опасения. К 2007 году несколькими независимыми исследователями были представлены алгоритмы реализации уявзимостей MD5, после чего последний официально был признан небезопасным."
   ]
  },
  {
   "cell_type": "markdown",
   "metadata": {},
   "source": [
    "Практика\n",
    "-----\n",
    "Для начало есть смысл посмотреть список доступных алгоритмов:"
   ]
  },
  {
   "cell_type": "code",
   "execution_count": 7,
   "metadata": {},
   "outputs": [
    {
     "name": "stdout",
     "output_type": "stream",
     "text": [
      "{'sha3_512', 'sha256', 'ripemd160', 'sha1', 'sha512_224', 'blake2s', 'sha512', 'sha3_256', 'md5-sha1', 'sha224', 'md4', 'sm3', 'blake2b', 'sha3_224', 'mdc2', 'shake_128', 'whirlpool', 'sha384', 'sha3_384', 'md5', 'sha512_256', 'shake_256'}\n",
      "<class 'set'>\n",
      "{'sha384', 'sha3_512', 'sha3_384', 'blake2b', 'sha3_224', 'md5', 'blake2s', 'shake_128', 'sha512', 'sha256', 'shake_256', 'sha3_256', 'sha224', 'sha1'}\n",
      "<class 'set'>\n"
     ]
    }
   ],
   "source": [
    "import hashlib\n",
    "print(hashlib.algorithms_available)\n",
    "print(type(hashlib.algorithms_available))\n",
    "#Выводит все доступные системе алгоритмы, не ограничиваясь возможностями модуля\n",
    "print(hashlib.algorithms_guaranteed)\n",
    "print(type(hashlib.algorithms_guaranteed))\n",
    "#Ограниивает список алгоритмами из модуля"
   ]
  },
  {
   "cell_type": "markdown",
   "metadata": {},
   "source": [
    "Принимая в качестве входных данных байт строку, на выходе мы получаем хеш:"
   ]
  },
  {
   "cell_type": "code",
   "execution_count": 17,
   "metadata": {},
   "outputs": [
    {
     "name": "stdout",
     "output_type": "stream",
     "text": [
      "<md5 HASH object @ 0x05BD5080>\n",
      "\n",
      " b'\\xc7\\xd4f#\\x17;o\\xde\\x81.\\x81\\xea\\xfc\\x17X\\xa2' \n",
      " c7d46623173b6fde812e81eafc1758a2\n"
     ]
    }
   ],
   "source": [
    "import hashlib as hh\n",
    "#print(hh.md5('ow, hi, Mark'))\n",
    "#>>>TypeError: Unicode-objects must be encoded before hashing\n",
    "\n",
    "#Важно понимать, что на вход для кодирования алгоритмы принимают не str, но спцециальный формат байт-строк - Типы данных bytes и bytearray в python\n",
    "a = hh.md5(bytes('ow, hi, Mark',encoding=\"utf_8\"))\n",
    "print(a)\n",
    "#Для работы с результатом алгоритма испольщуем два методы diges() и hexdigest():\n",
    "print('\\n', a.digest(),'\\n', a.hexdigest())"
   ]
  },
  {
   "cell_type": "code",
   "execution_count": 24,
   "metadata": {},
   "outputs": [
    {
     "name": "stdout",
     "output_type": "stream",
     "text": [
      "b'bytes'\n",
      "b'\\xd0\\x91\\xd0\\xb0\\xd0\\xb9\\xd1\\x82\\xd1\\x8b'\n",
      "b'bytes'\n",
      "b'2dLH)'\n",
      "Байты\n"
     ]
    }
   ],
   "source": [
    "print(b'bytes') #похоже на интаксис регулярок или форматированных строк, приятная опция\n",
    "print('Байты'.encode('utf-8')) \n",
    "print(bytes('bytes', encoding = 'utf-8'))\n",
    "print(bytes([50, 100, 76, 72, 41]))\n",
    "print(b'\\xd0\\x91\\xd0\\xb0\\xd0\\xb9\\xd1\\x82\\xd1\\x8b'.decode('utf-8'))"
   ]
  },
  {
   "cell_type": "markdown",
   "metadata": {},
   "source": [
    "#### Немного о bytes...\n",
    "    \n",
    "___\n",
    "**\\#Благодаря кодировке напрямую, становится возможным без проблем переносить информацию в недвочиынх средах ил средах с неопределённой кодировкой, храня информаци. именно в таком виде**\n",
    "\n",
    "**\\#Атрибут encode чрезвычайно важен и имеет не одно возможное значение. Опираясь на него, сам тип данных bytes приобретает свою полезность**\n",
    "___"
   ]
  },
  {
   "cell_type": "markdown",
   "metadata": {},
   "source": [
    "## Задание\n",
    "\n",
    "Создать две функции с форматами **(login, password:str):** и **(login,expr:str) -> bool:**, реализующие процесс создания пароля и его проверки (процесс аутентификации)\n",
    "Хранение паролей производится в зашифрованном виде в словаре парами (login, password)\n",
    "\n",
    ">Решение ниже"
   ]
  },
  {
   "cell_type": "code",
   "execution_count": 10,
   "metadata": {},
   "outputs": [
    {
     "data": {
      "text/plain": [
       "True"
      ]
     },
     "execution_count": 10,
     "metadata": {},
     "output_type": "execute_result"
    }
   ],
   "source": [
    "import hashlib as hh\n",
    "base = {}\n",
    "def createpassword(login, password:str):\n",
    "    base[login] = hh.md5(bytes(password, encoding=\"utf_8\")).hexdigest()\n",
    "\n",
    "def auth(login,expr:str) -> bool:\n",
    "    expr = bytes(expr, encoding=\"utf_8\")\n",
    "    shifr = hh.md5(expr).hexdigest()\n",
    "    return shifr == base[login]\n",
    "\n",
    "createpassword('Arana', 'hellocoding')\n",
    "auth('Arana','hellocoding')"
   ]
  }
 ],
 "metadata": {
  "kernelspec": {
   "display_name": "Python 3",
   "language": "python",
   "name": "python3"
  },
  "language_info": {
   "codemirror_mode": {
    "name": "ipython",
    "version": 3
   },
   "file_extension": ".py",
   "mimetype": "text/x-python",
   "name": "python",
   "nbconvert_exporter": "python",
   "pygments_lexer": "ipython3",
   "version": "3.8.2"
  }
 },
 "nbformat": 4,
 "nbformat_minor": 4
}
