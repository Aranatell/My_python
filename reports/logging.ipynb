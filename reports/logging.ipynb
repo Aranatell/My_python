{
 "cells": [
  {
   "cell_type": "code",
   "execution_count": 2,
   "metadata": {},
   "outputs": [],
   "source": [
    "import logging"
   ]
  },
  {
   "cell_type": "markdown",
   "metadata": {},
   "source": [
    "Хочется верить, что журналирование большинства ваших приложений в последствии будет начинаться с этой прекрасной строки"
   ]
  },
  {
   "cell_type": "markdown",
   "metadata": {},
   "source": [
    "# Logging\n",
    ">Лучше, чем кажется<br>Нужнее, чем ожидалось"
   ]
  },
  {
   "cell_type": "markdown",
   "metadata": {},
   "source": [
    "Журналирование — это очень важная часть разработки ПО. Оно помогает разработчикам лучше понимать выполнение программы и судить о дефектах и непредвиденных сбоях. \n",
    "\n",
    "Журнальное сообщение может хранить информацию наподобие текущего статуса программы или того, в каком месте она выполняется. Если происходит ошибка, то разработчики могут быстро найти строку кода, которая вызвала проблему, и действовать с учетом этого"
   ]
  },
  {
   "cell_type": "markdown",
   "metadata": {},
   "source": [
    "Экземпляр, который мы создаем для генерации записей, называют **логгером**. Он инстанциируется через _logger = logging.getLogger(name)_.\n",
    "<br>Лучшая практика — это использовать name в качестве имени логгера. name включает в себя имя пакета и имя модуля.<br>Имя будет появляться в журнальном сообщении, что поможет разработчикам быстро находить, где оно было сгенерировано."
   ]
  },
  {
   "cell_type": "markdown",
   "metadata": {},
   "source": [
    "Альтернативный способ создания логгера - метод **basicConfig** модуля __logging__ и передать ей несколько ключевых аргументов. Функция принимает следующее: _filename, filemode, format, datefmt, level_ и _stream_Python предлагает шесть уровней лога; каждый уровень связан с числом, которое указывает на важность лога: NOTSET=0, DEBUG=10, INFO=20, WARNING=30, ERROR=40 и CRITICAL=50.."
   ]
  },
  {
   "cell_type": "code",
   "execution_count": 3,
   "metadata": {},
   "outputs": [],
   "source": [
    "logging.basicConfig(filename=\"sample.log\", level=logging.INFO)\n",
    " \n",
    "logging.debug(\"This is a debug message\")\n",
    "logging.info(\"Informational message\")\n",
    "logging.error(\"An error has happened!\")"
   ]
  },
  {
   "cell_type": "markdown",
   "metadata": {},
   "source": [
    "На выходе мы получим сообщения info и error. Такая избирательность завязана на параметре level=logging.**some level**"
   ]
  },
  {
   "cell_type": "markdown",
   "metadata": {},
   "source": [
    "Существует пять уровней логирования (тот самый **some level** (в порядке возрастания): DEBUG, INFO, WARNING,m ERROR и CRITICAL<br>Т.е. Получив в параметр значение INFO все нижестоящие по уровню соообщения выводится не будут"
   ]
  },
  {
   "cell_type": "markdown",
   "metadata": {},
   "source": [
    ">_На сама деле Python предлагает шесть уровней лога; каждый уровень связан с числом, которое указывает на важность лога: NOTSET=0, DEBUG=10, INFO=20, WARNING=30, ERROR=40 и CRITICAL=50. Однако о NOTSET стоит поговорить отдельно_"
   ]
  },
  {
   "cell_type": "markdown",
   "metadata": {},
   "source": [
    "Output программы из кодовой ячейки выше будет выглядеть так:"
   ]
  },
  {
   "cell_type": "markdown",
   "metadata": {},
   "source": [
    ">INFO:root:Informational message<br>ERROR:root:An error has happened!"
   ]
  },
  {
   "cell_type": "markdown",
   "metadata": {},
   "source": [
    " Часть _root_ означает, что данное сообщение пришло либо от корневого логгера, либо от основного."
   ]
  },
  {
   "cell_type": "markdown",
   "metadata": {},
   "source": [
    "Для самых внимательных слушателей будет очень важным узнать о параметре Log.formatter из первой кодовой ячейки<br>Не станем разочаровывать их"
   ]
  },
  {
   "cell_type": "code",
   "execution_count": null,
   "metadata": {},
   "outputs": [],
   "source": [
    "_log_format = f\"%(asctime)s - [%(levelname)s] - %(name)s - (%(filename)s).%(funcName)s(%(lineno)d) - %(message)s\""
   ]
  },
  {
   "cell_type": "markdown",
   "metadata": {},
   "source": [
    "Именно так выглядит **кастомизированный** формтироващик жунальных сообщений<br>Общая структура форматироващика в простом виде может выглядеть так:<br>_серьезность ошибки:имя логгера:сообщение_<br>\n",
    "**\\# например: WARNING:root:Программа стартует!**\n",
    "\n",
    "то чудо, что вы видите в _log_format - чудо, которое на выходе будет выдавать что-то вроде:<br>_\\# 2020-07-26 23:37:15,374 - [INFO] -  __main__ - (main.py).main(18) - Программа стартует!_"
   ]
  },
  {
   "cell_type": "markdown",
   "metadata": {},
   "source": [
    "### Немного подытожим\n",
    "У нас есть несколько важных для нас объектов: непосредственно logger, в него мы включаем нужные нам для чуткой настройки логгинга атрибуты, например, уровень ведения **setLevel**<br>Нам так же нужен обработчик лог-файла **FileHandler** и его форматтор - правило, согласно которму мы пишем в handler лог - **Formatter**. После чего мы собираем все объекты в одну конструкцию: для Хэндлера в качестве ключа атрибута ставим Formatter, а к logger-у через **.addHandler** добавляем хендлер - и вуаля! :D"
   ]
  },
  {
   "cell_type": "code",
   "execution_count": 14,
   "metadata": {},
   "outputs": [],
   "source": [
    "def get_file_handler():\n",
    "    file_handler = logging.FileHandler(\"x.log\")\n",
    "    file_handler.setLevel(logging.WARNING)\n",
    "    file_handler.setFormatter(logging.Formatter(_log_format))\n",
    "    return file_handler"
   ]
  },
  {
   "cell_type": "markdown",
   "metadata": {},
   "source": [
    "Пример создание Хэндлера"
   ]
  },
  {
   "cell_type": "markdown",
   "metadata": {},
   "source": [
    ">Давайте на небольшом примере рассмотрим рабоу логгеров при взаимодействии нескольких приложений"
   ]
  },
  {
   "cell_type": "code",
   "execution_count": null,
   "metadata": {},
   "outputs": [],
   "source": [
    "import logging\n",
    "import yourAPP\n",
    " \n",
    "def main():\n",
    "    \n",
    "    logger = logging.getLogger(\"exampleApp\")\n",
    "    logger.setLevel(logging.INFO)\n",
    "    \n",
    "    # create the logging file handler\n",
    "    fh = logging.FileHandler(\"checking.log\")\n",
    " \n",
    "    formatter = logging.Formatter('%(asctime)s - %(name)s - %(levelname)s - %(message)s')\n",
    "    fh.setFormatter(formatter)\n",
    "    \n",
    "    # add handler to logger object\n",
    "    logger.addHandler(fh)\n",
    "    \n",
    "    logger.info(\"Program started\")\n",
    "    result = #result of your app's work\n",
    "    logger.info(\"Done!\")\n",
    " \n",
    "if __name__ == \"__main__\":\n",
    "    main()"
   ]
  },
  {
   "cell_type": "markdown",
   "metadata": {},
   "source": [
    "А вот так будет выглядить yourAPP:"
   ]
  },
  {
   "cell_type": "code",
   "execution_count": null,
   "metadata": {},
   "outputs": [],
   "source": [
    "# yourAPP\n",
    "import logging\n",
    " \n",
    "module_logger = logging.getLogger(\"Ваше название\")\n",
    " \n",
    "def smth()\n",
    "    ''''''\n",
    "    logger = logging.getLogger(\"Ваше название\")\n",
    "    logger.info(\"Какое-то сообщение\")\n",
    "    ''''''"
   ]
  },
  {
   "cell_type": "markdown",
   "metadata": {},
   "source": [
    "В заключение отметим, что работа модуля не ограничивается тем скромным функционалом, который был освещён в докладе. Динамические и статические значения атрибутов, фильтрация логов, пользовательские классы, многопоточнсоть, многопроцессорная обработка, иерархия логгеров и многое другое - при уделении должного внимания, всё это станет значимой частью ваших проектов, упрощая вашу работу и отладку. Всё благодаря **logging**!"
   ]
  },
  {
   "cell_type": "markdown",
   "metadata": {},
   "source": [
    "## Задание\n",
    "\n",
    "Создать два приложения по макету последних двух Code Shell и связать из так, чтобы в один файл высылались логи о работе программы.<br>В файл yourAPP.py Добавить функцию, от работы который и будет подрываться логгер. указать вывод так(посредством использования .Formatter), чтобы было видно приложение (его часть, функция, что угодно), из которого происходит логгирование"
   ]
  }
 ],
 "metadata": {
  "kernelspec": {
   "display_name": "Python 3",
   "language": "python",
   "name": "python3"
  },
  "language_info": {
   "codemirror_mode": {
    "name": "ipython",
    "version": 3
   },
   "file_extension": ".py",
   "mimetype": "text/x-python",
   "name": "python",
   "nbconvert_exporter": "python",
   "pygments_lexer": "ipython3",
   "version": "3.8.2"
  }
 },
 "nbformat": 4,
 "nbformat_minor": 4
}
