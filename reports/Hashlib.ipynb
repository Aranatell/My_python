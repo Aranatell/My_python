{
 "cells": [
  {
   "cell_type": "markdown",
   "metadata": {},
   "source": [
    "<H1>Hashlib library<\\H1>\n",
    "    <H2>Крайковский, Бурзунов, ИБ-1801<\\H>\n"
   ]
  },
  {
   "cell_type": "markdown",
   "metadata": {},
   "source": [
    "Как уже ясно из названия, инстрменты библиотеки позволяют работать с хеш-функциями. \n",
    "\n",
    "Чтобы быстро ухватить сущность хеш-функции, достаточно представить себе функцию **'f(x)'**, особенностью которой является (практически) полная невозможность получить прообраз **x** по \n",
    "результату функции **y=f(x)**\n",
    "\n",
    "---\n",
    "Значение, что возвращается хеш-функцией, обычно называют **хешем, дайджестом сообщения, значением хеша или контрольной суммой.**\n",
    "___"
   ]
  },
  {
   "cell_type": "markdown",
   "metadata": {},
   "source": [
    "Сейчас существуюет два основных семейства алгоритмов, реализующих хеш-функции - MD и SHA. Некоторые из представителей второй группы в настоящий момент являются стандартами безопасности США."
   ]
  },
  {
   "cell_type": "markdown",
   "metadata": {},
   "source": [
    "Практика\n",
    "-----\n",
    "Для начало есть смысл посмотреть список доступных алгоритмов:"
   ]
  },
  {
   "cell_type": "code",
   "execution_count": null,
   "metadata": {},
   "outputs": [],
   "source": [
    "import hashlib\n",
    "print(hashlib.algorithms_available)\n",
    "#Выводит все доступные системе алгоритмы, не ограничиваясь возможностями модуля\n",
    "print(hashlib.algorithms_guaranteed)\n",
    "#Ограниивает список алгоритмами из модуля"
   ]
  },
  {
   "cell_type": "code",
   "execution_count": 10,
   "metadata": {},
   "outputs": [
    {
     "data": {
      "text/plain": [
       "True"
      ]
     },
     "execution_count": 10,
     "metadata": {},
     "output_type": "execute_result"
    }
   ],
   "source": [
    "import hashlib as hh\n",
    "base = {}\n",
    "def createpassword(login, password:str):\n",
    "    base[login] = hh.md5(bytes(password, encoding=\"utf_8\")).hexdigest()\n",
    "\n",
    "def auth(login,expr:str) -> bool:\n",
    "    expr = bytes(expr, encoding=\"utf_8\")\n",
    "    shifr = hh.md5(expr).hexdigest()\n",
    "    return shifr == base[login]\n",
    "\n",
    "createpassword('Arana', 'hellocoding')\n",
    "auth('Arana','hellocoding')"
   ]
  }
 ],
 "metadata": {
  "kernelspec": {
   "display_name": "Python 3",
   "language": "python",
   "name": "python3"
  },
  "language_info": {
   "codemirror_mode": {
    "name": "ipython",
    "version": 3
   },
   "file_extension": ".py",
   "mimetype": "text/x-python",
   "name": "python",
   "nbconvert_exporter": "python",
   "pygments_lexer": "ipython3",
   "version": "3.8.2"
  }
 },
 "nbformat": 4,
 "nbformat_minor": 4
}
